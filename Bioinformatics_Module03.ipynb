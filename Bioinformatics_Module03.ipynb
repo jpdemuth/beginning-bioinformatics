{
  "nbformat": 4,
  "nbformat_minor": 0,
  "metadata": {
    "colab": {
      "provenance": [],
      "authorship_tag": "ABX9TyNzhfsVdkAM2CLuH5FrSqMk",
      "include_colab_link": true
    },
    "kernelspec": {
      "name": "python3",
      "display_name": "Python 3"
    },
    "language_info": {
      "name": "python"
    }
  },
  "cells": [
    {
      "cell_type": "markdown",
      "metadata": {
        "id": "view-in-github",
        "colab_type": "text"
      },
      "source": [
        "<a href=\"https://colab.research.google.com/github/jpdemuth/beginning-bioinformatics/blob/main/Bioinformatics_Module03.ipynb\" target=\"_parent\"><img src=\"https://colab.research.google.com/assets/colab-badge.svg\" alt=\"Open In Colab\"/></a>"
      ]
    },
    {
      "cell_type": "code",
      "execution_count": null,
      "metadata": {
        "id": "-jtAZ0X5qQnO",
        "colab": {
          "base_uri": "https://localhost:8080/"
        },
        "outputId": "b34aa04c-e56f-43eb-9052-9d809f0550e5"
      },
      "outputs": [
        {
          "output_type": "stream",
          "name": "stdout",
          "text": [
            "hello world\n"
          ]
        }
      ],
      "source": [
        "print (\"hello world\")"
      ]
    },
    {
      "cell_type": "code",
      "source": [
        "from google.colab import drive\n",
        "drive.mount('/content/drive')"
      ],
      "metadata": {
        "colab": {
          "base_uri": "https://localhost:8080/"
        },
        "id": "nGpAV-GOl9sa",
        "outputId": "6fd353ff-928c-4d0b-d0c8-54bf82b53b81"
      },
      "execution_count": 1,
      "outputs": [
        {
          "output_type": "stream",
          "name": "stdout",
          "text": [
            "Mounted at /content/drive\n"
          ]
        }
      ]
    },
    {
      "cell_type": "code",
      "source": [
        "import os\n",
        "base = '/content/drive/MyDrive/bioinformatics_2025'\n",
        "os.makedirs(base, exist_ok=True)\n",
        "print('Workspace:', base)"
      ],
      "metadata": {
        "id": "LlznjXirmeyh",
        "outputId": "74aff0b7-a8e5-471d-d204-66d50b4e831b",
        "colab": {
          "base_uri": "https://localhost:8080/"
        }
      },
      "execution_count": null,
      "outputs": [
        {
          "output_type": "stream",
          "name": "stdout",
          "text": [
            "Workspace: /content/drive/MyDrive/bioinformatics_2025\n"
          ]
        }
      ]
    },
    {
      "cell_type": "code",
      "source": [
        "!python --version\n",
        "!ls -lah\n",
        "!echo \"Hello from the shell\""
      ],
      "metadata": {
        "colab": {
          "base_uri": "https://localhost:8080/"
        },
        "id": "-iRqFxkcn9I1",
        "outputId": "f247a9ee-64d2-4905-914f-6f497fdaf34e"
      },
      "execution_count": 14,
      "outputs": [
        {
          "output_type": "stream",
          "name": "stdout",
          "text": [
            "Python 3.12.11\n",
            "total 20K\n",
            "drwxr-xr-x 1 root root 4.0K Aug 31 01:00 .\n",
            "drwxr-xr-x 1 root root 4.0K Aug 31 00:52 ..\n",
            "drwxr-xr-x 4 root root 4.0K Aug 28 13:42 .config\n",
            "drwx------ 6 root root 4.0K Aug 31 00:54 drive\n",
            "-rwxr-xr-x 1 root root    0 Aug 31 01:05 hello.py\n",
            "drwxr-xr-x 1 root root 4.0K Aug 28 13:43 sample_data\n",
            "Hello from the shell\n"
          ]
        }
      ]
    },
    {
      "cell_type": "code",
      "source": [
        "%%bash\n",
        "cat > hello.py << 'PY'\n",
        "#!/usr/bin/env python3\n",
        "print(\"Hello World!\")\n",
        "PY\n",
        "chmod +x hello.py\n",
        "./hello.py"
      ],
      "metadata": {
        "colab": {
          "base_uri": "https://localhost:8080/"
        },
        "id": "_G7ZMn9Ko98R",
        "outputId": "7c018871-d9d0-491a-d45b-7c56793fc189"
      },
      "execution_count": 16,
      "outputs": [
        {
          "output_type": "stream",
          "name": "stdout",
          "text": [
            "Hello World!\n"
          ]
        }
      ]
    },
    {
      "cell_type": "code",
      "source": [
        "ls"
      ],
      "metadata": {
        "colab": {
          "base_uri": "https://localhost:8080/"
        },
        "id": "zgKxOrXqqS9E",
        "outputId": "8e773068-60d6-497c-b183-234caae66d8d"
      },
      "execution_count": 18,
      "outputs": [
        {
          "output_type": "stream",
          "name": "stdout",
          "text": [
            "\u001b[0m\u001b[01;34mdrive\u001b[0m/  \u001b[01;32mhello.py\u001b[0m*  \u001b[01;34msample_data\u001b[0m/\n"
          ]
        }
      ]
    },
    {
      "cell_type": "code",
      "source": [
        "%%bash\n",
        "./hello.py"
      ],
      "metadata": {
        "colab": {
          "base_uri": "https://localhost:8080/"
        },
        "id": "K4FoT-pRqUHf",
        "outputId": "2192c3df-3b55-4159-84b0-df049b4418f5"
      },
      "execution_count": 29,
      "outputs": [
        {
          "output_type": "stream",
          "name": "stdout",
          "text": [
            "Hello World!\n"
          ]
        }
      ]
    }
  ]
}