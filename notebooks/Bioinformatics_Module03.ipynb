{
  "nbformat": 4,
  "nbformat_minor": 0,
  "metadata": {
    "colab": {
      "provenance": [],
      "mount_file_id": "https://github.com/jpdemuth/beginning-bioinformatics/blob/main/notebooks/Bioinformatics_Module03.ipynb",
      "authorship_tag": "ABX9TyNwd/D/gtsju1X3ggW0Ic5E",
      "include_colab_link": true
    },
    "kernelspec": {
      "name": "python3",
      "display_name": "Python 3"
    },
    "language_info": {
      "name": "python"
    }
  },
  "cells": [
    {
      "cell_type": "markdown",
      "metadata": {
        "id": "view-in-github",
        "colab_type": "text"
      },
      "source": [
        "<a href=\"https://colab.research.google.com/github/jpdemuth/beginning-bioinformatics/blob/main/notebooks/Bioinformatics_Module03.ipynb\" target=\"_parent\"><img src=\"https://colab.research.google.com/assets/colab-badge.svg\" alt=\"Open In Colab\"/></a>"
      ]
    },
    {
      "cell_type": "code",
      "source": [
        "from google.colab import drive\n",
        "drive.mount('/content/drive')"
      ],
      "metadata": {
        "colab": {
          "base_uri": "https://localhost:8080/"
        },
        "id": "nGpAV-GOl9sa",
        "outputId": "dc802be2-ed3c-4a70-919e-7b95f3067fa1"
      },
      "execution_count": 1,
      "outputs": [
        {
          "output_type": "stream",
          "name": "stdout",
          "text": [
            "Mounted at /content/drive\n"
          ]
        }
      ]
    },
    {
      "cell_type": "code",
      "source": [
        "import os\n",
        "base = '/content/drive/MyDrive/bioinformatics_2025'\n",
        "os.makedirs(base, exist_ok=True)\n",
        "print('Workspace:', base)"
      ],
      "metadata": {
        "id": "cDvEX2AzO96R",
        "outputId": "90e6d22f-3fc9-4ef0-cca8-d33c18268859",
        "colab": {
          "base_uri": "https://localhost:8080/"
        }
      },
      "execution_count": 2,
      "outputs": [
        {
          "output_type": "stream",
          "name": "stdout",
          "text": [
            "Workspace: /content/drive/MyDrive/bioinformatics_2025\n"
          ]
        }
      ]
    }
  ]
}